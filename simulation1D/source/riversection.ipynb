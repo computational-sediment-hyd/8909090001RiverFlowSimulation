{
 "cells": [
  {
   "cell_type": "code",
   "execution_count": null,
   "metadata": {},
   "outputs": [],
   "source": [
    "import source.riversectionsuper as sect\n",
    "import numpy as np\n",
    "# from numba import jitclass   # import the decorator\n",
    "from numba.experimental import jitclass\n",
    "from numba import float64, int8  # import the types\n",
    "from numba import types"
   ]
  },
  {
   "cell_type": "code",
   "execution_count": null,
   "metadata": {},
   "outputs": [],
   "source": [
    "spec = [\n",
    "     ('coordinates', float64[:,:])\n",
    "    ,('manning'  , float64[:])\n",
    "]\n",
    "\n",
    "@jitclass(spec)\n",
    "class subsection(sect.subsection):\n",
    "    pass"
   ]
  },
  {
   "cell_type": "code",
   "execution_count": null,
   "metadata": {},
   "outputs": [],
   "source": [
    "spec = [\n",
    "    ('_subsections',types.List(subsection.class_type.instance_type, reflected=True))\n",
    "    ,('distance', float64)\n",
    "]\n",
    "\n",
    "@jitclass(spec)\n",
    "class section(sect.section):\n",
    "    def __init__(self, ps, ns, distance=np.nan):\n",
    "        self._subsections = [ subsection(ps[i],ns[i]) for i in range(len(ps)) ]\n",
    "        self.distance = distance"
   ]
  }
 ],
 "metadata": {
  "kernelspec": {
   "display_name": "Python 3",
   "language": "python",
   "name": "python3"
  },
  "language_info": {
   "codemirror_mode": {
    "name": "ipython",
    "version": 3
   },
   "file_extension": ".py",
   "mimetype": "text/x-python",
   "name": "python",
   "nbconvert_exporter": "python",
   "pygments_lexer": "ipython3",
   "version": "3.7.10"
  },
  "toc": {
   "base_numbering": 1,
   "nav_menu": {},
   "number_sections": true,
   "sideBar": true,
   "skip_h1_title": false,
   "title_cell": "Table of Contents",
   "title_sidebar": "Contents",
   "toc_cell": false,
   "toc_position": {},
   "toc_section_display": true,
   "toc_window_display": false
  }
 },
 "nbformat": 4,
 "nbformat_minor": 4
}
